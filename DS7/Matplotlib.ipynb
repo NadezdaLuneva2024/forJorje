{
 "cells": [
  {
   "cell_type": "code",
   "execution_count": 4,
   "id": "e6f083ee-0357-4f1b-b320-de9ebc1474b2",
   "metadata": {},
   "outputs": [
    {
     "name": "stdout",
     "output_type": "stream",
     "text": [
      "        City  Sales\n",
      "0  Stockholm    100\n",
      "1   Göteborg    200\n",
      "2  Stockholm    150\n",
      "3      Malmö    300\n",
      "City\n",
      "Göteborg     200\n",
      "Malmö        300\n",
      "Stockholm    250\n",
      "Name: Sales, dtype: int64\n"
     ]
    }
   ],
   "source": [
    "import pandas as pd\n",
    "data = {\n",
    "   \"City\": [\"Stockholm\", \"Göteborg\", \"Stockholm\", \"Malmö\"],\n",
    "   \"Sales\": [100, 200, 150, 300]\n",
    "}\n",
    "df = pd.DataFrame(data)\n",
    "\n",
    "print(df)\n",
    "\n",
    "grouped = df.groupby(\"City\")[\"Sales\"].sum()\n",
    "print(grouped)\n",
    "\n",
    "\n"
   ]
  },
  {
   "cell_type": "code",
   "execution_count": null,
   "id": "177408c9-7a64-41b7-972e-65e46a2eace9",
   "metadata": {},
   "outputs": [],
   "source": []
  },
  {
   "cell_type": "code",
   "execution_count": null,
   "id": "ad02fd18-68da-4cee-9fd1-74260e9e7937",
   "metadata": {},
   "outputs": [],
   "source": []
  }
 ],
 "metadata": {
  "kernelspec": {
   "display_name": "Python 3 (ipykernel)",
   "language": "python",
   "name": "python3"
  },
  "language_info": {
   "codemirror_mode": {
    "name": "ipython",
    "version": 3
   },
   "file_extension": ".py",
   "mimetype": "text/x-python",
   "name": "python",
   "nbconvert_exporter": "python",
   "pygments_lexer": "ipython3",
   "version": "3.13.1"
  }
 },
 "nbformat": 4,
 "nbformat_minor": 5
}
